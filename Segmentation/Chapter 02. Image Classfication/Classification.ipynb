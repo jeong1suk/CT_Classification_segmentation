{
 "cells": [
  {
   "cell_type": "markdown",
   "id": "69b6a5e4",
   "metadata": {},
   "source": [
    "# 흉부 X-ray 이미지로 정상/코로나/폐렴을 분류하는 Image Classification "
   ]
  },
  {
   "cell_type": "markdown",
   "id": "9313e48a",
   "metadata": {},
   "source": [
    "데이터 출처: https://www.kaggle.com/datasets/pranavraikokte/covid19-image-dataset"
   ]
  },
  {
   "cell_type": "markdown",
   "id": "bf5f2993",
   "metadata": {},
   "source": [
    "## 1. 이미지 파일경로 불러오기"
   ]
  },
  {
   "cell_type": "code",
   "execution_count": 17,
   "id": "0460f505",
   "metadata": {},
   "outputs": [],
   "source": [
    "import os"
   ]
  },
  {
   "cell_type": "code",
   "execution_count": 18,
   "id": "8be43056",
   "metadata": {},
   "outputs": [],
   "source": [
    "IMAGE_FORMAT = ['jpeg', 'jpg', 'png']\n",
    "def list_image_files(data_dir, sub_dir):\n",
    "    # 모든 이미지들을 리스트 형태로 반환하는 함수 작성\n",
    "    images_files = [] # 이미지 파일을 받아올 리스트\n",
    "    # train폴더와 train폴더 하위에 있는 normal, covid, pneunomia에 대한 서브디렉토리로 연결\n",
    "    images_dir = os.path.join(data_dir, sub_dir)\n",
    "    \n",
    "    # 하위 디렉토리에 있는 모든 이미지들을 불러오는 대신에\n",
    "    # 각 이미지 파일의 확장자를 확인해서 이미지 포맷에 들어있는 확장자 중 하나이면 images_files에 file_path 삽입\n",
    "    for file_path in os.listdir(images_dir):\n",
    "        if file_path.split('.')[-1] in IMAGE_FORMAT:\n",
    "            images_files.append(os.path.join(sub_dir, file_path))\n",
    "            \n",
    "    return images_files"
   ]
  },
  {
   "cell_type": "code",
   "execution_count": 19,
   "id": "4567b96f",
   "metadata": {},
   "outputs": [
    {
     "name": "stdout",
     "output_type": "stream",
     "text": [
      "Normal: 70, Covid: 111, Pneumonia: 70\n"
     ]
    }
   ],
   "source": [
    "data_dir = '../DATASET/Classification/train/'\n",
    "\n",
    "normal_list = list_image_files(data_dir, 'Normal')\n",
    "covid_list = list_image_files(data_dir, 'Covid')\n",
    "pneumonias_list = list_image_files(data_dir, 'Viral Pneumonia')\n",
    "\n",
    "print(f\"Normal: {len(normal_list)}, Covid: {len(covid_list)}, Pneumonia: {len(pneumonias_list)}\")"
   ]
  },
  {
   "cell_type": "markdown",
   "id": "c6c0cf13",
   "metadata": {},
   "source": [
    "## 2. 이미지 파일을 RGB 3차원 배열로 불러오기"
   ]
  },
  {
   "cell_type": "code",
   "execution_count": 20,
   "id": "7d56f46f",
   "metadata": {},
   "outputs": [],
   "source": [
    "import cv2"
   ]
  },
  {
   "cell_type": "code",
   "execution_count": 21,
   "id": "c56a33dc",
   "metadata": {},
   "outputs": [],
   "source": [
    "def get_RGB_image(data_dir, file_name):\n",
    "    image_file = os.path.join(data_dir, file_name)\n",
    "    image = cv2.imread(image_file)\n",
    "    image = cv2.cvtColor(image, cv2.COLOR_BGR2RGB)\n",
    "\n",
    "    return image"
   ]
  },
  {
   "cell_type": "markdown",
   "id": "066c96a1",
   "metadata": {},
   "source": [
    "## 3. 이미지데이터 확인하기"
   ]
  },
  {
   "cell_type": "code",
   "execution_count": 22,
   "id": "899f5532",
   "metadata": {},
   "outputs": [],
   "source": [
    "import matplotlib.pyplot as plt\n",
    "from ipywidgets import interact"
   ]
  },
  {
   "cell_type": "code",
   "execution_count": 23,
   "id": "09a6bad9",
   "metadata": {},
   "outputs": [
    {
     "name": "stdout",
     "output_type": "stream",
     "text": [
      "70\n"
     ]
    }
   ],
   "source": [
    "# 정상, 코로나, 폐렴의 이미지를 하나의 쌍으로 보기 위해 데이터셋의 길이를 조절\n",
    "min_num_files = min(len(normal_list), len(covid_list), len(pneumonias_list))\n",
    "print(min_num_files)"
   ]
  },
  {
   "cell_type": "code",
   "execution_count": 24,
   "id": "d14d78f3",
   "metadata": {},
   "outputs": [
    {
     "data": {
      "application/vnd.jupyter.widget-view+json": {
       "model_id": "2139ffff19e5494599ad9ec95aa81d41",
       "version_major": 2,
       "version_minor": 0
      },
      "text/plain": [
       "interactive(children=(IntSlider(value=0, description='index', max=69), Output()), _dom_classes=('widget-intera…"
      ]
     },
     "metadata": {},
     "output_type": "display_data"
    }
   ],
   "source": [
    "# 인터렉티브하게 보일 수 있도록 데코레이터를 사용\n",
    "@interact(index=(0, min_num_files-1))\n",
    "def show_samples(index=0):\n",
    "    # 슬라이드 바가 생성, 바가 0부터 69번까지 이동할 수 있음\n",
    "    normal_image = get_RGB_image(data_dir, normal_list[index])\n",
    "    covid_image = get_RGB_image(data_dir, covid_list[index])\n",
    "    pneumonia_image = get_RGB_image(data_dir, pneumonias_list[index])\n",
    "    \n",
    "    plt.figure(figsize=(12,6))\n",
    "    plt.subplot(131)\n",
    "    plt.imshow(normal_image)\n",
    "    plt.title('Normal')\n",
    "    \n",
    "    plt.subplot(132)\n",
    "    plt.imshow(covid_image)\n",
    "    plt.title('Covid')\n",
    "    \n",
    "    plt.subplot(133)\n",
    "    plt.imshow(pneumonia_image)\n",
    "    plt.title('Pneumonia')"
   ]
  },
  {
   "cell_type": "markdown",
   "id": "c19e2b38",
   "metadata": {},
   "source": [
    "- 코로나 환자의 폐 사진이 정상 환자나 폐렴 환자의 사진보다 조금 더 뿌연 특징이 있는 것 같다.\n",
    "- 정상 환자와 폐렴 환자 사이의 구분되는 특징은 없는 것 같다.\n",
    "    - 이 경우에는 딥러닝 모델이 두가지 케이스에 대해서는 구분하지 못할 확률이 있다.\n",
    "- 정상과 코로나 환자 사이의 이미지에 대해서는 구분할 수 있는 특징이 있다.\n",
    "- 각각의 이미지들이 크기가 제각각이다.</br>\n",
    "  &rarr;  추후에 이미지 resize해줘야 한다."
   ]
  },
  {
   "cell_type": "markdown",
   "id": "848178e4",
   "metadata": {},
   "source": [
    "## 4. 학습데이터셋 클래스 구축"
   ]
  },
  {
   "cell_type": "code",
   "execution_count": 25,
   "id": "3c3b9693",
   "metadata": {},
   "outputs": [],
   "source": [
    "train_data_dir = \"../DATASET/Classification/train/\"\n",
    "class_list = ['Normal', 'Covid', 'Viral Pneumonia']"
   ]
  },
  {
   "cell_type": "code",
   "execution_count": 26,
   "id": "c28fbc81",
   "metadata": {},
   "outputs": [],
   "source": [
    "class Chest_dataset():\n",
    "    def __init__(self, data_dir, transformer=None): # 생성자\n",
    "        self.data_dir = data_dir\n",
    "        normals = list_image_files(data_dir, 'Normal')\n",
    "        covids = list_image_files(data_dir, 'Covid')\n",
    "        pneumonias = list_image_files(data_dir, 'Viral Pneumonia')\n",
    "        \n",
    "        self.files_path = normals + covids + pneumonias\n",
    "        self.transformer = transformer\n",
    "        # 나중에 이미지를 텐서형태로 변환하고\n",
    "        # 그 외에 augmentation기법을 적용할 때 트랜스포머로 많은 인스턴스를 전달하는 편\n",
    "    \n",
    "    def __len__(self): # 데이터셋의 길이\n",
    "        return len(self.files_path)\n",
    "    \n",
    "    def __getitem__(self, index): # 데이터셋에 호출되는 인덱스에 맞는 아이템을 리턴\n",
    "        image_file = os.path.join(self.data_dir, self.files_path[index])\n",
    "        image = cv2.imread(image_file)\n",
    "        image = cv2.cvtColor(image, cv2.COLOR_BGR2RGB)\n",
    "        '''\n",
    "        print(self.data_dir)\n",
    "        print(self.files_path[index])\n",
    "        print(self.files_path[index].split(os.sep)[0])\n",
    "        '''\n",
    "        class_name = self.files_path[index].split(os.sep)[0]\n",
    "        #print(class_name)\n",
    "        class_id = class_list.index(class_name)\n",
    "        #print(class_id)\n",
    "        \n",
    "        if self.transformer:\n",
    "            image = self.transformer(image)\n",
    "            class_id = torch.Tensor([class_id]).long() # 텐서형으로 바꾸고 long=인트 값으로 변환\n",
    "            \n",
    "        return image, class_id"
   ]
  },
  {
   "cell_type": "code",
   "execution_count": 27,
   "id": "3c67a1b4",
   "metadata": {},
   "outputs": [],
   "source": [
    "dset = Chest_dataset(data_dir = train_data_dir)"
   ]
  },
  {
   "cell_type": "code",
   "execution_count": 28,
   "id": "8ad7b0a7",
   "metadata": {},
   "outputs": [],
   "source": [
    "index = -10\n",
    "image, target = dset[index]"
   ]
  },
  {
   "cell_type": "code",
   "execution_count": 29,
   "id": "02a1b598",
   "metadata": {},
   "outputs": [
    {
     "name": "stdout",
     "output_type": "stream",
     "text": [
      "(1416, 1960, 3)\n",
      "2\n"
     ]
    }
   ],
   "source": [
    "print(image.shape)\n",
    "print(target)"
   ]
  },
  {
   "cell_type": "code",
   "execution_count": 30,
   "id": "2ea7622b",
   "metadata": {},
   "outputs": [
    {
     "data": {
      "text/plain": [
       "<matplotlib.image.AxesImage at 0x7fb4b40c56d0>"
      ]
     },
     "execution_count": 30,
     "metadata": {},
     "output_type": "execute_result"
    },
    {
     "data": {
      "image/png": "[encoded data removed]",
      "text/plain": [
       "<Figure size 432x288 with 1 Axes>"
      ]
     },
     "metadata": {
      "needs_background": "light"
     },
     "output_type": "display_data"
    }
   ],
   "source": [
    "# 인덱스 값을 토대로 시각화하기\n",
    "plt.title(class_list[target])\n",
    "plt.imshow(image)"
   ]
  },
  {
   "cell_type": "code",
   "execution_count": 31,
   "id": "dc24e7d1",
   "metadata": {},
   "outputs": [
    {
     "data": {
      "text/plain": [
       "251"
      ]
     },
     "execution_count": 31,
     "metadata": {},
     "output_type": "execute_result"
    }
   ],
   "source": [
    "len(dset)"
   ]
  },
  {
   "cell_type": "markdown",
   "id": "472baabe",
   "metadata": {},
   "source": [
    "## 5. 연산가능한 텐서형으로 데이터 변환하기"
   ]
  },
  {
   "cell_type": "code",
   "execution_count": 32,
   "id": "c652b95e",
   "metadata": {},
   "outputs": [],
   "source": [
    "import torch\n",
    "from torchvision import transforms"
   ]
  },
  {
   "cell_type": "code",
   "execution_count": 33,
   "id": "4c127fc7",
   "metadata": {},
   "outputs": [],
   "source": [
    "transformer = transforms.Compose([\n",
    "    transforms.ToTensor(),\n",
    "    transforms.Resize((224,224)),\n",
    "    transforms.Normalize(mean=[0.5, 0.5, 0.5], std=[0.5, 0.5, 0.5])\n",
    "])"
   ]
  },
  {
   "cell_type": "code",
   "execution_count": 34,
   "id": "a4deba86",
   "metadata": {},
   "outputs": [
    {
     "name": "stdout",
     "output_type": "stream",
     "text": [
      "torch.Size([3, 224, 224])\n",
      "tensor([2])\n"
     ]
    }
   ],
   "source": [
    "train_dset = Chest_dataset(train_data_dir, transformer)\n",
    "index = 200\n",
    "image = train_dset[index][0]\n",
    "target = train_dset[index][1]\n",
    "print(image.shape)\n",
    "print(target)"
   ]
  },
  {
   "cell_type": "code",
   "execution_count": 35,
   "id": "6f1c2876",
   "metadata": {},
   "outputs": [
    {
     "data": {
      "text/plain": [
       "tensor([[[-0.8034, -0.7613, -0.6594,  ..., -0.9770, -0.9105, -0.9532],\n",
       "         [-0.7853, -0.6306, -0.6515,  ..., -0.9492, -0.9707, -0.9649],\n",
       "         [-0.7271, -0.6258, -0.6338,  ..., -0.9922, -0.9843, -0.9857],\n",
       "         ...,\n",
       "         [-0.8902, -0.8902, -0.8980,  ..., -0.9137, -0.9137, -0.9137],\n",
       "         [-0.8902, -0.8902, -0.8980,  ..., -0.9137, -0.9137, -0.9137],\n",
       "         [-0.8902, -0.8902, -0.8980,  ..., -0.9137, -0.9137, -0.9137]],\n",
       "\n",
       "        [[-0.8034, -0.7613, -0.6594,  ..., -0.9770, -0.9105, -0.9532],\n",
       "         [-0.7853, -0.6306, -0.6515,  ..., -0.9492, -0.9707, -0.9649],\n",
       "         [-0.7271, -0.6258, -0.6338,  ..., -0.9922, -0.9843, -0.9857],\n",
       "         ...,\n",
       "         [-0.8902, -0.8902, -0.8980,  ..., -0.9137, -0.9137, -0.9137],\n",
       "         [-0.8902, -0.8902, -0.8980,  ..., -0.9137, -0.9137, -0.9137],\n",
       "         [-0.8902, -0.8902, -0.8980,  ..., -0.9137, -0.9137, -0.9137]],\n",
       "\n",
       "        [[-0.8034, -0.7613, -0.6594,  ..., -0.9770, -0.9105, -0.9532],\n",
       "         [-0.7853, -0.6306, -0.6515,  ..., -0.9492, -0.9707, -0.9649],\n",
       "         [-0.7271, -0.6258, -0.6338,  ..., -0.9922, -0.9843, -0.9857],\n",
       "         ...,\n",
       "         [-0.8902, -0.8902, -0.8980,  ..., -0.9137, -0.9137, -0.9137],\n",
       "         [-0.8902, -0.8902, -0.8980,  ..., -0.9137, -0.9137, -0.9137],\n",
       "         [-0.8902, -0.8902, -0.8980,  ..., -0.9137, -0.9137, -0.9137]]])"
      ]
     },
     "execution_count": 35,
     "metadata": {},
     "output_type": "execute_result"
    }
   ],
   "source": [
    "image"
   ]
  },
  {
   "cell_type": "markdown",
   "id": "d8116264",
   "metadata": {},
   "source": [
    "## 6. 데이터로더 구현하기"
   ]
  },
  {
   "cell_type": "code",
   "execution_count": 36,
   "id": "6beeb9b6",
   "metadata": {},
   "outputs": [],
   "source": [
    "from torch.utils.data import DataLoader"
   ]
  },
  {
   "cell_type": "code",
   "execution_count": 37,
   "id": "9752298b",
   "metadata": {},
   "outputs": [],
   "source": [
    "train_data_dir = \"../DATASET/Classification/train/\"\n",
    "val_data_dir = \"../DATASET/Classification/test/\"\n",
    "\n",
    "train_dset = Chest_dataset(train_data_dir, transformer)\n",
    "train_dloader = DataLoader(train_dset, batch_size=4, shuffle=True, drop_last=True)\n",
    "# 전체 데이터 수가 9개이면 batch가 4개 일때 마지막 데이터가 남는데 drop_last로 마지막 데이터 drop함\n",
    "\n",
    "val_dset = Chest_dataset(val_data_dir, transformer)\n",
    "val_dloader = DataLoader(val_dset, batch_size=1, shuffle=False)\n",
    "# validation은 batch를 크게 묶어도 혹은 작게 묶어도 상관이 없고 학습에 전혀 영향을 미치지 않는 것이기 때문에\n",
    "# 배치 크기를 1로 하고 shuffle도 꺼버림"
   ]
  },
  {
   "cell_type": "code",
   "execution_count": 38,
   "id": "9fcc4428",
   "metadata": {},
   "outputs": [],
   "source": [
    "def build_dataloader(train_data_dir, val_data_dir):\n",
    "    # 함수 구현해서 dataloader를 만들기도 함. 위의 코드와 동일\n",
    "    dataloaders = {}\n",
    "    train_dset = Chest_dataset(train_data_dir, transformer)\n",
    "    dataloaders['train'] = DataLoader(train_dset, batch_size=4, shuffle=True, drop_last=True)\n",
    "\n",
    "    val_dset = Chest_dataset(val_data_dir, transformer)\n",
    "    dataloaders[\"val\"] = DataLoader(val_dset, batch_size=1, shuffle=False)\n",
    "    \n",
    "    return dataloaders"
   ]
  },
  {
   "cell_type": "code",
   "execution_count": 39,
   "id": "f10d9f7f",
   "metadata": {},
   "outputs": [
    {
     "name": "stdout",
     "output_type": "stream",
     "text": [
      "{'train': <torch.utils.data.dataloader.DataLoader object at 0x7fb4b32671c0>, 'val': <torch.utils.data.dataloader.DataLoader object at 0x7fb4b193d880>}\n"
     ]
    }
   ],
   "source": [
    "train_data_dir = \"../DATASET/Classification/train/\"\n",
    "val_data_dir = \"../DATASET/Classification/test/\"\n",
    "\n",
    "dataloaders = build_dataloader(train_data_dir, val_data_dir)\n",
    "print(dataloaders)"
   ]
  },
  {
   "cell_type": "markdown",
   "id": "27448af5",
   "metadata": {},
   "source": [
    "## 7. Classification 모델(VGG19) 불러오기"
   ]
  },
  {
   "cell_type": "code",
   "execution_count": 40,
   "id": "3ec87db0",
   "metadata": {},
   "outputs": [],
   "source": [
    "from torchvision import models"
   ]
  },
  {
   "cell_type": "code",
   "execution_count": 41,
   "id": "7710796b",
   "metadata": {},
   "outputs": [
    {
     "name": "stderr",
     "output_type": "stream",
     "text": [
      "/opt/anaconda3/lib/python3.9/site-packages/torchvision/models/_utils.py:208: UserWarning: The parameter 'pretrained' is deprecated since 0.13 and will be removed in 0.15, please use 'weights' instead.\n",
      "  warnings.warn(\n",
      "/opt/anaconda3/lib/python3.9/site-packages/torchvision/models/_utils.py:223: UserWarning: Arguments other than a weight enum or `None` for 'weights' are deprecated since 0.13 and will be removed in 0.15. The current behavior is equivalent to passing `weights=VGG19_Weights.IMAGENET1K_V1`. You can also use `weights=VGG19_Weights.DEFAULT` to get the most up-to-date weights.\n",
      "  warnings.warn(msg)\n"
     ]
    }
   ],
   "source": [
    "model = models.vgg19(pretrained=True)"
   ]
  },
  {
   "cell_type": "code",
   "execution_count": 42,
   "id": "7b121989",
   "metadata": {},
   "outputs": [
    {
     "ename": "ModuleNotFoundError",
     "evalue": "No module named 'torchsummary'",
     "output_type": "error",
     "traceback": [
      "\u001b[0;31m---------------------------------------------------------------------------\u001b[0m",
      "\u001b[0;31mModuleNotFoundError\u001b[0m                       Traceback (most recent call last)",
      "Input \u001b[0;32mIn [42]\u001b[0m, in \u001b[0;36m<cell line: 1>\u001b[0;34m()\u001b[0m\n\u001b[0;32m----> 1\u001b[0m \u001b[38;5;28;01mfrom\u001b[39;00m \u001b[38;5;21;01mtorchsummary\u001b[39;00m \u001b[38;5;28;01mimport\u001b[39;00m summary\n\u001b[1;32m      3\u001b[0m summary(model, (\u001b[38;5;241m3\u001b[39m, \u001b[38;5;241m244\u001b[39m, \u001b[38;5;241m244\u001b[39m), batch_size\u001b[38;5;241m=\u001b[39m\u001b[38;5;241m1\u001b[39m, device\u001b[38;5;241m=\u001b[39m\u001b[38;5;124m'\u001b[39m\u001b[38;5;124mcpu\u001b[39m\u001b[38;5;124m'\u001b[39m)\n",
      "\u001b[0;31mModuleNotFoundError\u001b[0m: No module named 'torchsummary'"
     ]
    }
   ],
   "source": [
    "from torchsummary import summary\n",
    "\n",
    "summary(model, (3, 244, 244), batch_size=1, device='cpu')"
   ]
  },
  {
   "cell_type": "code",
   "execution_count": 43,
   "id": "6ecebb2a",
   "metadata": {},
   "outputs": [
    {
     "data": {
      "text/plain": [
       "VGG(\n",
       "  (features): Sequential(\n",
       "    (0): Conv2d(3, 64, kernel_size=(3, 3), stride=(1, 1), padding=(1, 1))\n",
       "    (1): ReLU(inplace=True)\n",
       "    (2): Conv2d(64, 64, kernel_size=(3, 3), stride=(1, 1), padding=(1, 1))\n",
       "    (3): ReLU(inplace=True)\n",
       "    (4): MaxPool2d(kernel_size=2, stride=2, padding=0, dilation=1, ceil_mode=False)\n",
       "    (5): Conv2d(64, 128, kernel_size=(3, 3), stride=(1, 1), padding=(1, 1))\n",
       "    (6): ReLU(inplace=True)\n",
       "    (7): Conv2d(128, 128, kernel_size=(3, 3), stride=(1, 1), padding=(1, 1))\n",
       "    (8): ReLU(inplace=True)\n",
       "    (9): MaxPool2d(kernel_size=2, stride=2, padding=0, dilation=1, ceil_mode=False)\n",
       "    (10): Conv2d(128, 256, kernel_size=(3, 3), stride=(1, 1), padding=(1, 1))\n",
       "    (11): ReLU(inplace=True)\n",
       "    (12): Conv2d(256, 256, kernel_size=(3, 3), stride=(1, 1), padding=(1, 1))\n",
       "    (13): ReLU(inplace=True)\n",
       "    (14): Conv2d(256, 256, kernel_size=(3, 3), stride=(1, 1), padding=(1, 1))\n",
       "    (15): ReLU(inplace=True)\n",
       "    (16): Conv2d(256, 256, kernel_size=(3, 3), stride=(1, 1), padding=(1, 1))\n",
       "    (17): ReLU(inplace=True)\n",
       "    (18): MaxPool2d(kernel_size=2, stride=2, padding=0, dilation=1, ceil_mode=False)\n",
       "    (19): Conv2d(256, 512, kernel_size=(3, 3), stride=(1, 1), padding=(1, 1))\n",
       "    (20): ReLU(inplace=True)\n",
       "    (21): Conv2d(512, 512, kernel_size=(3, 3), stride=(1, 1), padding=(1, 1))\n",
       "    (22): ReLU(inplace=True)\n",
       "    (23): Conv2d(512, 512, kernel_size=(3, 3), stride=(1, 1), padding=(1, 1))\n",
       "    (24): ReLU(inplace=True)\n",
       "    (25): Conv2d(512, 512, kernel_size=(3, 3), stride=(1, 1), padding=(1, 1))\n",
       "    (26): ReLU(inplace=True)\n",
       "    (27): MaxPool2d(kernel_size=2, stride=2, padding=0, dilation=1, ceil_mode=False)\n",
       "    (28): Conv2d(512, 512, kernel_size=(3, 3), stride=(1, 1), padding=(1, 1))\n",
       "    (29): ReLU(inplace=True)\n",
       "    (30): Conv2d(512, 512, kernel_size=(3, 3), stride=(1, 1), padding=(1, 1))\n",
       "    (31): ReLU(inplace=True)\n",
       "    (32): Conv2d(512, 512, kernel_size=(3, 3), stride=(1, 1), padding=(1, 1))\n",
       "    (33): ReLU(inplace=True)\n",
       "    (34): Conv2d(512, 512, kernel_size=(3, 3), stride=(1, 1), padding=(1, 1))\n",
       "    (35): ReLU(inplace=True)\n",
       "    (36): MaxPool2d(kernel_size=2, stride=2, padding=0, dilation=1, ceil_mode=False)\n",
       "  )\n",
       "  (avgpool): AdaptiveAvgPool2d(output_size=(7, 7))\n",
       "  (classifier): Sequential(\n",
       "    (0): Linear(in_features=25088, out_features=4096, bias=True)\n",
       "    (1): ReLU(inplace=True)\n",
       "    (2): Dropout(p=0.5, inplace=False)\n",
       "    (3): Linear(in_features=4096, out_features=4096, bias=True)\n",
       "    (4): ReLU(inplace=True)\n",
       "    (5): Dropout(p=0.5, inplace=False)\n",
       "    (6): Linear(in_features=4096, out_features=1000, bias=True)\n",
       "  )\n",
       ")"
      ]
     },
     "execution_count": 43,
     "metadata": {},
     "output_type": "execute_result"
    }
   ],
   "source": [
    "model"
   ]
  },
  {
   "cell_type": "markdown",
   "id": "bdc49e0a",
   "metadata": {},
   "source": [
    "## 8. 데이터에 맞도록 모델 Head 부분 변경하기"
   ]
  },
  {
   "cell_type": "code",
   "execution_count": 44,
   "id": "42b3f886",
   "metadata": {},
   "outputs": [],
   "source": [
    "import torch.nn as nn\n",
    "# torch.nn 은 레이어를 작성하고 혹은 작성한 레이어들을 하나의 sequential한 어떤 아키텍쳐로 구성할 수 있게 하는 모듈"
   ]
  },
  {
   "cell_type": "code",
   "execution_count": 45,
   "id": "136f9d82",
   "metadata": {},
   "outputs": [],
   "source": [
    "model.avgpool = nn.AdaptiveAvgPool2d(output_size=(1,1))\n",
    "# AdaptiveAvgPooling 레이어는 기존의 풀링레이어와 다르게 아웃풋 사이즈를 지정을 하면 어떤 입력값이 와도 지정한 아웃풋 사이즈로 데이터 풀링을 수행"
   ]
  },
  {
   "cell_type": "code",
   "execution_count": 46,
   "id": "969fbf12",
   "metadata": {},
   "outputs": [],
   "source": [
    "model.classifier = nn.Sequential(\n",
    "    nn.Flatten(),\n",
    "    nn.Linear(512, 256),\n",
    "    nn.ReLU(),\n",
    "    nn.Linear(256, 3),\n",
    ")"
   ]
  },
  {
   "cell_type": "code",
   "execution_count": 47,
   "id": "dd6612fd",
   "metadata": {},
   "outputs": [],
   "source": [
    "def build_vgg19_based_model(device='cpu'):\n",
    "    # 위에 변경한 부분을 하나의 함수로 만듬\n",
    "    device = torch.device(device)\n",
    "    model = models.vgg19(pretrained=True)\n",
    "    \n",
    "    model.avgpool = nn.AdaptiveAvgPool2d(output_size=(1,1))\n",
    "    \n",
    "    model.classifier = nn.Sequential(\n",
    "        nn.Flatten(),\n",
    "        nn.Linear(512, 256),\n",
    "        nn.ReLU(),\n",
    "        nn.Linear(256, 3),\n",
    "        nn.Softmax(dim=1)\n",
    "    )\n",
    "    \n",
    "    return model.to(device)"
   ]
  },
  {
   "cell_type": "code",
   "execution_count": 48,
   "id": "9a70f5ea",
   "metadata": {},
   "outputs": [],
   "source": [
    "model = build_vgg19_based_model(device='cpu')"
   ]
  },
  {
   "cell_type": "code",
   "execution_count": 49,
   "id": "acade190",
   "metadata": {},
   "outputs": [
    {
     "data": {
      "text/plain": [
       "VGG(\n",
       "  (features): Sequential(\n",
       "    (0): Conv2d(3, 64, kernel_size=(3, 3), stride=(1, 1), padding=(1, 1))\n",
       "    (1): ReLU(inplace=True)\n",
       "    (2): Conv2d(64, 64, kernel_size=(3, 3), stride=(1, 1), padding=(1, 1))\n",
       "    (3): ReLU(inplace=True)\n",
       "    (4): MaxPool2d(kernel_size=2, stride=2, padding=0, dilation=1, ceil_mode=False)\n",
       "    (5): Conv2d(64, 128, kernel_size=(3, 3), stride=(1, 1), padding=(1, 1))\n",
       "    (6): ReLU(inplace=True)\n",
       "    (7): Conv2d(128, 128, kernel_size=(3, 3), stride=(1, 1), padding=(1, 1))\n",
       "    (8): ReLU(inplace=True)\n",
       "    (9): MaxPool2d(kernel_size=2, stride=2, padding=0, dilation=1, ceil_mode=False)\n",
       "    (10): Conv2d(128, 256, kernel_size=(3, 3), stride=(1, 1), padding=(1, 1))\n",
       "    (11): ReLU(inplace=True)\n",
       "    (12): Conv2d(256, 256, kernel_size=(3, 3), stride=(1, 1), padding=(1, 1))\n",
       "    (13): ReLU(inplace=True)\n",
       "    (14): Conv2d(256, 256, kernel_size=(3, 3), stride=(1, 1), padding=(1, 1))\n",
       "    (15): ReLU(inplace=True)\n",
       "    (16): Conv2d(256, 256, kernel_size=(3, 3), stride=(1, 1), padding=(1, 1))\n",
       "    (17): ReLU(inplace=True)\n",
       "    (18): MaxPool2d(kernel_size=2, stride=2, padding=0, dilation=1, ceil_mode=False)\n",
       "    (19): Conv2d(256, 512, kernel_size=(3, 3), stride=(1, 1), padding=(1, 1))\n",
       "    (20): ReLU(inplace=True)\n",
       "    (21): Conv2d(512, 512, kernel_size=(3, 3), stride=(1, 1), padding=(1, 1))\n",
       "    (22): ReLU(inplace=True)\n",
       "    (23): Conv2d(512, 512, kernel_size=(3, 3), stride=(1, 1), padding=(1, 1))\n",
       "    (24): ReLU(inplace=True)\n",
       "    (25): Conv2d(512, 512, kernel_size=(3, 3), stride=(1, 1), padding=(1, 1))\n",
       "    (26): ReLU(inplace=True)\n",
       "    (27): MaxPool2d(kernel_size=2, stride=2, padding=0, dilation=1, ceil_mode=False)\n",
       "    (28): Conv2d(512, 512, kernel_size=(3, 3), stride=(1, 1), padding=(1, 1))\n",
       "    (29): ReLU(inplace=True)\n",
       "    (30): Conv2d(512, 512, kernel_size=(3, 3), stride=(1, 1), padding=(1, 1))\n",
       "    (31): ReLU(inplace=True)\n",
       "    (32): Conv2d(512, 512, kernel_size=(3, 3), stride=(1, 1), padding=(1, 1))\n",
       "    (33): ReLU(inplace=True)\n",
       "    (34): Conv2d(512, 512, kernel_size=(3, 3), stride=(1, 1), padding=(1, 1))\n",
       "    (35): ReLU(inplace=True)\n",
       "    (36): MaxPool2d(kernel_size=2, stride=2, padding=0, dilation=1, ceil_mode=False)\n",
       "  )\n",
       "  (avgpool): AdaptiveAvgPool2d(output_size=(1, 1))\n",
       "  (classifier): Sequential(\n",
       "    (0): Flatten(start_dim=1, end_dim=-1)\n",
       "    (1): Linear(in_features=512, out_features=256, bias=True)\n",
       "    (2): ReLU()\n",
       "    (3): Linear(in_features=256, out_features=3, bias=True)\n",
       "    (4): Softmax(dim=1)\n",
       "  )\n",
       ")"
      ]
     },
     "execution_count": 49,
     "metadata": {},
     "output_type": "execute_result"
    }
   ],
   "source": [
    "model"
   ]
  },
  {
   "cell_type": "markdown",
   "id": "2f14d5e5",
   "metadata": {},
   "source": [
    "## 9. 손실함수(Cross-Entropy) 불러오기"
   ]
  },
  {
   "cell_type": "code",
   "execution_count": 50,
   "id": "c8b27096",
   "metadata": {},
   "outputs": [],
   "source": [
    "loss_func = nn.CrossEntropyLoss(reduction='mean')"
   ]
  },
  {
   "cell_type": "markdown",
   "id": "6cee78e0",
   "metadata": {},
   "source": [
    "## 10. SGDM 최적화 기법 적용하기\n",
    "\n",
    "* Stochastic Gradient Descent with Momentum(SGDM) Optimization"
   ]
  },
  {
   "cell_type": "code",
   "execution_count": 51,
   "id": "beb774c4",
   "metadata": {},
   "outputs": [],
   "source": [
    "optimizer = torch.optim.SGD(model.parameters(), lr=0.001, momentum=0.9)"
   ]
  },
  {
   "cell_type": "markdown",
   "id": "189eb289",
   "metadata": {},
   "source": [
    "## 11. 모델 학습을 위한 함수 구현하기"
   ]
  },
  {
   "cell_type": "code",
   "execution_count": 52,
   "id": "60dfcf2c",
   "metadata": {},
   "outputs": [],
   "source": [
    "device = torch.device(\"cpu\")"
   ]
  },
  {
   "cell_type": "code",
   "execution_count": 53,
   "id": "fe78b6a8",
   "metadata": {},
   "outputs": [],
   "source": [
    "# train을 위한 함수\n",
    "def train_one_epoch(dataloaders, model, optimizer, loss_function, device):\n",
    "    loss = {}\n",
    "    \n",
    "    for phase in [\"train\", \"val\"]:\n",
    "        running_loss = 0.0\n",
    "        # train이나 val 모드에서 running_loss를 중간중간 맏아와서 프린트문 외부에 찍히게 되서\n",
    "        # 실제로 잘 학습하고 있는지, loss 가 잘 줄어들고 있는지를 확인할 수 있게 변수 설정\n",
    "\n",
    "        if phase == \"train\":\n",
    "            model.train()\n",
    "        else:\n",
    "            model.eval()\n",
    "            \n",
    "        for index, batch in enumerate(dataloaders[phase]):\n",
    "            image = batch[0].to(device) # 첫번째 리턴값: 이미지\n",
    "            label = batch[1].to(device) # 두번째 리턴값: 클래스 아이디\n",
    "            \n",
    "            with torch.set_grad_enabled(phase == \"train\"):\n",
    "                prediction = model(image)\n",
    "                loss = loss_func(prediction, target)\n",
    "                \n",
    "                if phase == \"train\":\n",
    "                    optimizer.zero_grad()\n",
    "                    loss.backward()\n",
    "                    optimizer.step()\n",
    "                    \n",
    "                running_loss += loss.item()\n",
    "                \n",
    "                if phase == \"train\":\n",
    "                    if index % 10 == 0:\n",
    "                        print(f\"{index}/{len(dataloaders['train'])} - Running loss: {loss.item()}\")\n",
    "                        \n",
    "            losses[phase] = running_loss / len(dataloaders[phase])\n",
    "            \n",
    "        return losses"
   ]
  },
  {
   "cell_type": "markdown",
   "id": "31458f5e",
   "metadata": {},
   "source": [
    "## 12. 모델 검증을 위한 Accuracy 생성하기\n",
    "\n",
    "* Top-1 accuracy\n",
    "    * 가장 confidence가 높은 예측값의 클래스가 ground truth 와 일치하는 경우 True-Positive 로 판단\n",
    "* Top-5 accuracy\n",
    "    * confidence가 높은 상위 5개 예측값의 클래스에 ground truth 가 존재하는 경우 True-Positive로 판단"
   ]
  },
  {
   "cell_type": "code",
   "execution_count": 54,
   "id": "a049621f",
   "metadata": {},
   "outputs": [],
   "source": [
    "# accuracy를 구할땐 backward가 필요없기 때문에 decorator 써주기\n",
    "@torch.no_grad()\n",
    "def get_accuracy(image, target, model):\n",
    "    batch_size = image.shape[0]\n",
    "    prediction = model(image) # (B, NUM_CLASSES)\n",
    "    _, pred_label = torch.max(prediction, dim=1)\n",
    "    is_correct = (pred_label == target) # True or False\n",
    "    accuracy = is_correct.cpu().numpy().sum() / batch_size\n",
    "    return accuracy"
   ]
  },
  {
   "cell_type": "markdown",
   "id": "e02003c8",
   "metadata": {},
   "source": [
    "## 13. 모델 학습 수행하기"
   ]
  },
  {
   "cell_type": "code",
   "execution_count": 55,
   "id": "02fc6ee6",
   "metadata": {},
   "outputs": [
    {
     "data": {
      "text/plain": [
       "device(type='mps')"
      ]
     },
     "execution_count": 55,
     "metadata": {},
     "output_type": "execute_result"
    }
   ],
   "source": [
    "device = torch.device('mps' if torch.backends.mps.is_available() else 'cpu')\n",
    "device"
   ]
  },
  {
   "cell_type": "code",
   "execution_count": 56,
   "id": "fac0c409",
   "metadata": {},
   "outputs": [],
   "source": [
    "train_data_dir = \"../DATASET/Classification/train/\"\n",
    "val_data_dir = \"../DATASET/Classification/test/\"\n",
    "dataloaders = build_dataloader(train_data_dir, val_data_dir)\n",
    "model = build_vgg19_based_model(device=device)\n",
    "loss_func = nn.CrossEntropyLoss(reduction=\"mean\")\n",
    "optimizer = torch.optim.SGD(model.parameters(), lr=0.001, momentum=0.9)"
   ]
  },
  {
   "cell_type": "code",
   "execution_count": 57,
   "id": "030b3af1",
   "metadata": {},
   "outputs": [],
   "source": [
    "def train_one_epoch(dataloaders, model, optimizer, loss_function, device):\n",
    "    losses = {}\n",
    "    accuracies = {}\n",
    "    \n",
    "    for phase in [\"train\", \"val\"]:\n",
    "        running_loss = 0.0\n",
    "        running_correct = 0.0 # 매번 트레인과 밸리데이션 페이지별로 accuracy도 누적시킴\n",
    "\n",
    "        if phase == \"train\":\n",
    "            model.train()\n",
    "        else:\n",
    "            model.eval()\n",
    "            \n",
    "        for index, batch in enumerate(dataloaders[phase]):\n",
    "            image = batch[0].to(device) # 첫번째 리턴값: 이미지\n",
    "            label = batch[1].squeeze(dim=1).to(device) # 두번째 리턴값: 클래스 아이디\n",
    "            \n",
    "            with torch.set_grad_enabled(phase == \"train\"):\n",
    "                prediction = model(image)\n",
    "                loss = loss_func(prediction, label)\n",
    "\n",
    "                optimizer.zero_grad()\n",
    "                \n",
    "                if phase == \"train\":\n",
    "                    loss.backward()\n",
    "                    optimizer.step()\n",
    "                    \n",
    "            running_loss += loss.item()\n",
    "            running_correct += get_accuracy(image, label, model)\n",
    "                \n",
    "            if phase == \"train\":\n",
    "                if index % 10 == 0:\n",
    "                    print(f\"{index}/{len(dataloaders['train'])} - Running loss: {loss.item()}\")\n",
    "                        \n",
    "        losses[phase] = running_loss / len(dataloaders[phase])\n",
    "        accuracies[phase] = running_correct / len(dataloaders[phase])\n",
    "            \n",
    "    return losses, accuracies"
   ]
  },
  {
   "cell_type": "code",
   "execution_count": 58,
   "id": "785fa86e",
   "metadata": {
    "scrolled": true
   },
   "outputs": [
    {
     "name": "stdout",
     "output_type": "stream",
     "text": [
      "0/62 - Running loss: 1.1019707918167114\n",
      "10/62 - Running loss: 1.1041345596313477\n",
      "20/62 - Running loss: 1.0686455965042114\n",
      "30/62 - Running loss: 1.0278284549713135\n",
      "40/62 - Running loss: 1.0175187587738037\n",
      "50/62 - Running loss: 1.018444299697876\n",
      "60/62 - Running loss: 0.899133563041687\n",
      "0/10-Tr loss:1.0470818185037183, Val loss 0.8947428085587241\n",
      "0/10-Tr acc:0.4879032258064516, Val acc 0.696969696969697\n",
      "0/62 - Running loss: 0.8792086839675903\n",
      "10/62 - Running loss: 0.9998327493667603\n",
      "20/62 - Running loss: 0.7961724400520325\n",
      "30/62 - Running loss: 0.9565675854682922\n",
      "40/62 - Running loss: 0.9340616464614868\n",
      "50/62 - Running loss: 0.6317038536071777\n",
      "60/62 - Running loss: 0.7119137048721313\n",
      "1/10-Tr loss:0.9001054484998027, Val loss 0.7988966902097067\n",
      "1/10-Tr acc:0.6854838709677419, Val acc 0.7272727272727273\n",
      "0/62 - Running loss: 0.698165237903595\n",
      "10/62 - Running loss: 0.6792811751365662\n",
      "20/62 - Running loss: 1.2637193202972412\n",
      "30/62 - Running loss: 0.8014447689056396\n",
      "40/62 - Running loss: 0.5514446496963501\n",
      "50/62 - Running loss: 1.3014447689056396\n",
      "60/62 - Running loss: 0.8014447093009949\n",
      "2/10-Tr loss:1.0006656531364686, Val loss 1.1575051491910762\n",
      "2/10-Tr acc:0.5604838709677419, Val acc 0.3939393939393939\n",
      "0/62 - Running loss: 0.5514446496963501\n",
      "10/62 - Running loss: 1.5514447689056396\n",
      "20/62 - Running loss: 1.3014447689056396\n",
      "30/62 - Running loss: 1.5514447689056396\n",
      "40/62 - Running loss: 1.05144464969635\n",
      "50/62 - Running loss: 1.0514447689056396\n",
      "60/62 - Running loss: 1.05144464969635\n",
      "3/10-Tr loss:1.1078963097064727, Val loss 1.1575051726716938\n",
      "3/10-Tr acc:0.4435483870967742, Val acc 0.3939393939393939\n",
      "0/62 - Running loss: 0.8014447093009949\n",
      "10/62 - Running loss: 1.0514447689056396\n",
      "20/62 - Running loss: 1.5514447689056396\n",
      "30/62 - Running loss: 1.0514447689056396\n",
      "40/62 - Running loss: 1.3014447689056396\n",
      "50/62 - Running loss: 1.3014447689056396\n",
      "60/62 - Running loss: 1.3014447689056396\n",
      "4/10-Tr loss:1.1119285658482583, Val loss 1.1575051708654924\n",
      "4/10-Tr acc:0.43951612903225806, Val acc 0.3939393939393939\n",
      "0/62 - Running loss: 1.5514447689056396\n",
      "10/62 - Running loss: 1.5514447689056396\n",
      "20/62 - Running loss: 1.3014447689056396\n",
      "30/62 - Running loss: 1.3014447689056396\n",
      "40/62 - Running loss: 1.3014447689056396\n",
      "50/62 - Running loss: 0.8014447093009949\n",
      "60/62 - Running loss: 1.3014447689056396\n",
      "5/10-Tr loss:1.1119285668096235, Val loss 1.1575051672530896\n",
      "5/10-Tr acc:0.43951612903225806, Val acc 0.3939393939393939\n",
      "0/62 - Running loss: 0.8014447093009949\n",
      "10/62 - Running loss: 0.8014447093009949\n",
      "20/62 - Running loss: 1.0514447689056396\n",
      "30/62 - Running loss: 1.3014509677886963\n",
      "40/62 - Running loss: 1.3014447689056396\n",
      "50/62 - Running loss: 1.0514447689056396\n",
      "60/62 - Running loss: 1.05144464969635\n",
      "6/10-Tr loss:1.111928564886893, Val loss 1.157505169059291\n",
      "6/10-Tr acc:0.43951612903225806, Val acc 0.3939393939393939\n",
      "0/62 - Running loss: 1.0514447689056396\n",
      "10/62 - Running loss: 1.5514447689056396\n",
      "20/62 - Running loss: 1.3014447689056396\n",
      "30/62 - Running loss: 1.3014447689056396\n",
      "40/62 - Running loss: 1.0514447689056396\n",
      "50/62 - Running loss: 0.8014447093009949\n",
      "60/62 - Running loss: 1.0514447689056396\n",
      "7/10-Tr loss:1.107896310667838, Val loss 1.157505169059291\n",
      "7/10-Tr acc:0.4435483870967742, Val acc 0.3939393939393939\n",
      "0/62 - Running loss: 1.3014447689056396\n",
      "10/62 - Running loss: 1.3014447689056396\n",
      "20/62 - Running loss: 1.0514447689056396\n",
      "30/62 - Running loss: 1.3014447689056396\n",
      "40/62 - Running loss: 0.5514446496963501\n",
      "50/62 - Running loss: 1.5514447689056396\n",
      "60/62 - Running loss: 1.3014447689056396\n",
      "8/10-Tr loss:1.1078963039382812, Val loss 1.1575051672530896\n",
      "8/10-Tr acc:0.4435483870967742, Val acc 0.3939393939393939\n",
      "0/62 - Running loss: 1.0514447689056396\n",
      "10/62 - Running loss: 1.0514447689056396\n",
      "20/62 - Running loss: 0.8014447093009949\n",
      "30/62 - Running loss: 1.5514447689056396\n",
      "40/62 - Running loss: 0.8014447093009949\n",
      "50/62 - Running loss: 1.5514447689056396\n",
      "60/62 - Running loss: 1.0514447689056396\n",
      "9/10-Tr loss:1.103864045873765, Val loss 1.1575051654468884\n",
      "9/10-Tr acc:0.4475806451612903, Val acc 0.3939393939393939\n"
     ]
    }
   ],
   "source": [
    "num_epochs = 10\n",
    "\n",
    "best_acc = 0.0\n",
    "train_loss, train_acc = [], []\n",
    "val_loss, val_acc = [], []\n",
    "\n",
    "for epoch in range(num_epochs):\n",
    "    losses, accuracies = train_one_epoch(dataloaders, model, optimizer, loss_func, device)\n",
    "    train_loss.append(losses['train'])\n",
    "    train_acc.append(accuracies['train'])\n",
    "    val_loss.append(losses['val'])\n",
    "    val_acc.append(accuracies['val'])\n",
    "    \n",
    "    print(f\"{epoch}/{num_epochs}-Tr loss:{losses['train']}, Val loss {losses['val']}\")\n",
    "    print(f\"{epoch}/{num_epochs}-Tr acc:{accuracies['train']}, Val acc {accuracies['val']}\")\n",
    "    \n",
    "    if accuracies[\"val\"] > best_acc:\n",
    "        best_acc = accuracies['val']\n",
    "        torch.save(model.state_dict(), f\"model_{epoch}.pth\")"
   ]
  },
  {
   "cell_type": "markdown",
   "id": "1ac68547",
   "metadata": {},
   "source": [
    "## 14. 테스트 이미지를 통한 학습모델 분류성능검증하기"
   ]
  },
  {
   "cell_type": "code",
   "execution_count": 59,
   "id": "4d8248e4",
   "metadata": {},
   "outputs": [],
   "source": [
    "data_dir = \"../DATASET/Classification/test/\"\n",
    "class_list = [\"Normal\", \"Covid\", \"Viral Pneumonia\"]\n",
    "\n",
    "test_normals_list = list_image_files(data_dir, \"Normal\")\n",
    "test_covids_list = list_image_files(data_dir, \"Covid\")\n",
    "test_pneumonias_list = list_image_files(data_dir, \"Viral Pneumonia\")"
   ]
  },
  {
   "cell_type": "code",
   "execution_count": 63,
   "id": "2eb721cc",
   "metadata": {},
   "outputs": [],
   "source": [
    "def preprocess_image(image):\n",
    "    transformer = transforms.Compose([\n",
    "        transforms.ToTensor(),\n",
    "        transforms.Resize((224, 224)),\n",
    "        transforms.Normalize(mean=[0.5, 0.5, 0.5], std=[0.5, 0.5, 0.5])\n",
    "    ])\n",
    "    \n",
    "    tensor_image = transformer(image) # (C, H, W)\n",
    "    tensor_image = tensor_image.unsqueeze(dim=0) # (B, C, H, W)    \n",
    "    return tensor_image"
   ]
  },
  {
   "cell_type": "code",
   "execution_count": 65,
   "id": "c41d2de3",
   "metadata": {},
   "outputs": [],
   "source": [
    "@torch.no_grad()\n",
    "def model_predict(image, model):\n",
    "    tensor_image = preprocess_image(image)\n",
    "    prediction = model(tensor_image)\n",
    "    _, pred_label = torch.max(prediction.detach().cpu(), dim=1) #(B, NUM_CLASSES)\n",
    "    pred_label = pred_label.squeeze(dim=0)\n",
    "    return pred_label.item() # 토치 변수가 가지고 있는 수치적인 값만을 가져옴"
   ]
  },
  {
   "cell_type": "code",
   "execution_count": 66,
   "id": "45d80850",
   "metadata": {},
   "outputs": [
    {
     "name": "stderr",
     "output_type": "stream",
     "text": [
      "/opt/anaconda3/lib/python3.9/site-packages/torchvision/models/_utils.py:208: UserWarning: The parameter 'pretrained' is deprecated since 0.13 and will be removed in 0.15, please use 'weights' instead.\n",
      "  warnings.warn(\n",
      "/opt/anaconda3/lib/python3.9/site-packages/torchvision/models/_utils.py:223: UserWarning: Arguments other than a weight enum or `None` for 'weights' are deprecated since 0.13 and will be removed in 0.15. The current behavior is equivalent to passing `weights=VGG19_Weights.IMAGENET1K_V1`. You can also use `weights=VGG19_Weights.DEFAULT` to get the most up-to-date weights.\n",
      "  warnings.warn(msg)\n"
     ]
    },
    {
     "data": {
      "text/plain": [
       "VGG(\n",
       "  (features): Sequential(\n",
       "    (0): Conv2d(3, 64, kernel_size=(3, 3), stride=(1, 1), padding=(1, 1))\n",
       "    (1): ReLU(inplace=True)\n",
       "    (2): Conv2d(64, 64, kernel_size=(3, 3), stride=(1, 1), padding=(1, 1))\n",
       "    (3): ReLU(inplace=True)\n",
       "    (4): MaxPool2d(kernel_size=2, stride=2, padding=0, dilation=1, ceil_mode=False)\n",
       "    (5): Conv2d(64, 128, kernel_size=(3, 3), stride=(1, 1), padding=(1, 1))\n",
       "    (6): ReLU(inplace=True)\n",
       "    (7): Conv2d(128, 128, kernel_size=(3, 3), stride=(1, 1), padding=(1, 1))\n",
       "    (8): ReLU(inplace=True)\n",
       "    (9): MaxPool2d(kernel_size=2, stride=2, padding=0, dilation=1, ceil_mode=False)\n",
       "    (10): Conv2d(128, 256, kernel_size=(3, 3), stride=(1, 1), padding=(1, 1))\n",
       "    (11): ReLU(inplace=True)\n",
       "    (12): Conv2d(256, 256, kernel_size=(3, 3), stride=(1, 1), padding=(1, 1))\n",
       "    (13): ReLU(inplace=True)\n",
       "    (14): Conv2d(256, 256, kernel_size=(3, 3), stride=(1, 1), padding=(1, 1))\n",
       "    (15): ReLU(inplace=True)\n",
       "    (16): Conv2d(256, 256, kernel_size=(3, 3), stride=(1, 1), padding=(1, 1))\n",
       "    (17): ReLU(inplace=True)\n",
       "    (18): MaxPool2d(kernel_size=2, stride=2, padding=0, dilation=1, ceil_mode=False)\n",
       "    (19): Conv2d(256, 512, kernel_size=(3, 3), stride=(1, 1), padding=(1, 1))\n",
       "    (20): ReLU(inplace=True)\n",
       "    (21): Conv2d(512, 512, kernel_size=(3, 3), stride=(1, 1), padding=(1, 1))\n",
       "    (22): ReLU(inplace=True)\n",
       "    (23): Conv2d(512, 512, kernel_size=(3, 3), stride=(1, 1), padding=(1, 1))\n",
       "    (24): ReLU(inplace=True)\n",
       "    (25): Conv2d(512, 512, kernel_size=(3, 3), stride=(1, 1), padding=(1, 1))\n",
       "    (26): ReLU(inplace=True)\n",
       "    (27): MaxPool2d(kernel_size=2, stride=2, padding=0, dilation=1, ceil_mode=False)\n",
       "    (28): Conv2d(512, 512, kernel_size=(3, 3), stride=(1, 1), padding=(1, 1))\n",
       "    (29): ReLU(inplace=True)\n",
       "    (30): Conv2d(512, 512, kernel_size=(3, 3), stride=(1, 1), padding=(1, 1))\n",
       "    (31): ReLU(inplace=True)\n",
       "    (32): Conv2d(512, 512, kernel_size=(3, 3), stride=(1, 1), padding=(1, 1))\n",
       "    (33): ReLU(inplace=True)\n",
       "    (34): Conv2d(512, 512, kernel_size=(3, 3), stride=(1, 1), padding=(1, 1))\n",
       "    (35): ReLU(inplace=True)\n",
       "    (36): MaxPool2d(kernel_size=2, stride=2, padding=0, dilation=1, ceil_mode=False)\n",
       "  )\n",
       "  (avgpool): AdaptiveAvgPool2d(output_size=(1, 1))\n",
       "  (classifier): Sequential(\n",
       "    (0): Flatten(start_dim=1, end_dim=-1)\n",
       "    (1): Linear(in_features=512, out_features=256, bias=True)\n",
       "    (2): ReLU()\n",
       "    (3): Linear(in_features=256, out_features=3, bias=True)\n",
       "    (4): Softmax(dim=1)\n",
       "  )\n",
       ")"
      ]
     },
     "execution_count": 66,
     "metadata": {},
     "output_type": "execute_result"
    }
   ],
   "source": [
    "ckpt = torch.load(\"./trained_model/model_06.pth\")\n",
    "\n",
    "model = build_vgg19_based_model(device='cpu')\n",
    "model.load_state_dict(ckpt)\n",
    "model.eval()"
   ]
  },
  {
   "cell_type": "code",
   "execution_count": 68,
   "id": "f54e6ce1",
   "metadata": {},
   "outputs": [
    {
     "data": {
      "application/vnd.jupyter.widget-view+json": {
       "model_id": "ccefdbeff228480bad5476081658a461",
       "version_major": 2,
       "version_minor": 0
      },
      "text/plain": [
       "interactive(children=(IntSlider(value=0, description='index', max=19), Output()), _dom_classes=('widget-intera…"
      ]
     },
     "metadata": {},
     "output_type": "display_data"
    }
   ],
   "source": [
    "min_num_files = min(len(test_normals_list), len(test_covids_list), len(test_pneumonias_list))\n",
    "\n",
    "@interact(index=(0, min_num_files-1))\n",
    "def show_result(index=0):\n",
    "    normal_image = get_RGB_image(data_dir, test_normals_list[index])\n",
    "    covid_image = get_RGB_image(data_dir, test_covids_list[index])\n",
    "    pneumonia_image = get_RGB_image(data_dir, test_pneumonias_list[index])\n",
    "    \n",
    "    pred_normal = model_predict(normal_image, model)\n",
    "    pred_covid = model_predict(covid_image, model)\n",
    "    pred_pneumonia = model_predict(pneumonia_image, model)\n",
    "    \n",
    "    plt.figure(figsize=(12, 8))\n",
    "    plt.subplot(131)\n",
    "    plt.title(f\"Pred:{class_list[pred_normal]} | GT:Normal\")\n",
    "    plt.imshow(normal_image)\n",
    "    \n",
    "    plt.subplot(132)\n",
    "    plt.title(f\"Pred:{class_list[pred_covid]} | GT:Covid\")\n",
    "    plt.imshow(covid_image)\n",
    "    \n",
    "    plt.subplot(133)\n",
    "    plt.title(f\"Pred:{class_list[pred_pneumonia]} | GT:Viral Pneumonia\")\n",
    "    plt.imshow(pneumonia_image)"
   ]
  },
  {
   "cell_type": "code",
   "execution_count": null,
   "id": "ae734f12",
   "metadata": {},
   "outputs": [],
   "source": []
  }
 ],
 "metadata": {
  "kernelspec": {
   "display_name": "Python 3 (ipykernel)",
   "language": "python",
   "name": "python3"
  },
  "language_info": {
   "codemirror_mode": {
    "name": "ipython",
    "version": 3
   },
   "file_extension": ".py",
   "mimetype": "text/x-python",
   "name": "python",
   "nbconvert_exporter": "python",
   "pygments_lexer": "ipython3",
   "version": "3.9.12"
  }
 },
 "nbformat": 4,
 "nbformat_minor": 5
}
